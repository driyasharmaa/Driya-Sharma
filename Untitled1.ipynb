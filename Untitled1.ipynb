{
  "nbformat": 4,
  "nbformat_minor": 0,
  "metadata": {
    "colab": {
      "provenance": [],
      "authorship_tag": "ABX9TyPvRscZvWtwYAOvlGJuZQCJ",
      "include_colab_link": true
    },
    "kernelspec": {
      "name": "python3",
      "display_name": "Python 3"
    },
    "language_info": {
      "name": "python"
    }
  },
  "cells": [
    {
      "cell_type": "markdown",
      "metadata": {
        "id": "view-in-github",
        "colab_type": "text"
      },
      "source": [
        "<a href=\"https://colab.research.google.com/github/driyasharmaa/Driya-Sharma/blob/main/Untitled1.ipynb\" target=\"_parent\"><img src=\"https://colab.research.google.com/assets/colab-badge.svg\" alt=\"Open In Colab\"/></a>"
      ]
    },
    {
      "cell_type": "code",
      "execution_count": 3,
      "metadata": {
        "colab": {
          "base_uri": "https://localhost:8080/"
        },
        "id": "rSbsTELO9pNc",
        "outputId": "e888b279-e636-4856-f794-43b13660148c"
      },
      "outputs": [
        {
          "output_type": "stream",
          "name": "stdout",
          "text": [
            "Enter the base number: 12\n",
            "Enter the exponent number: 3\n",
            "12.0 raised to the power 3 is 1728.0\n"
          ]
        }
      ],
      "source": [
        "# Get user input for the base and exponent\n",
        "base = float(input(\"Enter the base number: \"))\n",
        "exponent = int(input(\"Enter the exponent number: \"))\n",
        "#Initialise result to 1 (since any number raised to power 0 is 1)\n",
        "result = 1\n",
        "#if the exponent is negative, we calculate the positive power first\n",
        "#and then take the reciprocal\n",
        "if exponent < 0:\n",
        "  for _ in range(-exponent):\n",
        "        result *= base\n",
        "        result = 1 / result\n",
        "else:\n",
        "  for _ in range (exponent):\n",
        "        result *= base\n",
        "print(f\"{base} raised to the power {exponent} is {result}\")"
      ]
    }
  ]
}